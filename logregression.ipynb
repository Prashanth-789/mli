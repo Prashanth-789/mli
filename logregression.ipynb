{
 "cells": [
  {
   "cell_type": "code",
   "execution_count": null,
   "metadata": {
    "id": "PwjRRZBY-Chh"
   },
   "outputs": [
    {
     "name": "stdout",
     "output_type": "stream",
     "text": [
      "           x1         x2  result\n",
      "0   34.623660  78.024693       0\n",
      "1   30.286711  43.894998       0\n",
      "2   35.847409  72.902198       0\n",
      "3   60.182599  86.308552       1\n",
      "4   79.032736  75.344376       1\n",
      "..        ...        ...     ...\n",
      "95  83.489163  48.380286       1\n",
      "96  42.261701  87.103851       1\n",
      "97  99.315009  68.775409       1\n",
      "98  55.340018  64.931938       1\n",
      "99  74.775893  89.529813       1\n",
      "\n",
      "[100 rows x 3 columns]\n"
     ]
    }
   ],
   "source": [
    "import pandas as pd\n",
    "import numpy as np\n",
    "from sklearn.model_selection import train_test_split\n",
    "from sklearn import preprocessing\n",
    "from sklearn.preprocessing import StandardScaler\n",
    "from sklearn.model_selection import KFold\n",
    "from sklearn.metrics import confusion_matrix\n",
    "import matplotlib.pyplot as plt\n",
    "import seaborn as sns\n",
    "\n",
    "\n",
    "col_names=['x1','x2','result']\n",
    "ds=pd.read_csv('Student-University(For Logistic Regression Program).csv',names=col_names)\n",
    "print(ds)\n",
    "# x = ds.iloc[:,[0,1]].values\n",
    "# y = ds.iloc[:,2].values\n",
    "x = ds.drop([\"result\"], axis=1)  \n",
    "y = ds[\"result\"]\n",
    "scaler = StandardScaler()\n",
    "xp = scaler.fit_transform(x)\n",
    "\n",
    "# xp=preprocessing.scale(x)\n",
    "kf=KFold(n_splits=5)\n",
    "# Initialize an empty list to store all predictions and ground truth labels\n",
    "all_predictions = []\n",
    "all_ground_truth = []\n",
    "\n",
    "for train_index, test_index in kf.split(xp):\n",
    "    xtrain, xtest = xp[train_index], xp[test_index]\n",
    "    ytrain, ytest = y[train_index], y[test_index]\n",
    "\n",
    "    ytrain = ytrain.values\n",
    "    b0 = 0.0\n",
    "    b1 = 0.0\n",
    "    b2 = 0.0\n",
    "    epoch = 10000\n",
    "    alpha = 0.001\n",
    "\n",
    "    while epoch > 0:\n",
    "        for i in range(len(xtrain)):\n",
    "            prediction = 1 / (1 + np.exp(-(b0 + b1 * xtrain[i, 0] + b2 * xtrain[i, 1])))\n",
    "            b0 = b0 + alpha * (ytrain[i] - prediction) * prediction * (1 - prediction) * 1.0\n",
    "            b1 = b1 + alpha * (ytrain[i] - prediction) * prediction * (1 - prediction) * xtrain[i, 0]\n",
    "            b2 = b2 + alpha * (ytrain[i] - prediction) * prediction * (1 - prediction) * xtrain[i, 1]\n",
    "        epoch -= 1\n",
    "\n",
    "    # Make predictions for the test set\n",
    "    final_prediction = [1 if 1 / (1 + np.exp(-(b0 + b1 * x[0] + b2 * x[1]))) > 0.5 else 0 for x in xtest]\n",
    "\n",
    "    # Append predictions and ground truth labels to the lists\n",
    "    all_predictions.extend(final_prediction)\n",
    "    all_ground_truth.extend(ytest)\n",
    "\n",
    "# After the loop, compute the confusion matrix\n",
    "cm = confusion_matrix(all_ground_truth, all_predictions)\n",
    "\n",
    "# Plot confusion matrix\n",
    "plt.figure(figsize=(12, 9))\n",
    "sns.heatmap(cm, annot=True, fmt=\"d\", cmap=\"Blues\")\n",
    "plt.title(\"Confusion Matrix\")\n",
    "plt.xlabel(\"Predicted Labels\")\n",
    "plt.ylabel(\"True Labels\")\n",
    "plt.show()\n",
    "\n",
    "from sklearn.metrics import accuracy_score\n",
    "print(\"Accuracy:\", accuracy_score(ytest, final_prediction))"
   ]
  },
  {
   "cell_type": "code",
   "execution_count": null,
   "metadata": {},
   "outputs": [],
   "source": []
  }
 ],
 "metadata": {
  "colab": {
   "provenance": []
  },
  "kernelspec": {
   "display_name": "Python 3 (ipykernel)",
   "language": "python",
   "name": "python3"
  },
  "language_info": {
   "codemirror_mode": {
    "name": "ipython",
    "version": 3
   },
   "file_extension": ".py",
   "mimetype": "text/x-python",
   "name": "python",
   "nbconvert_exporter": "python",
   "pygments_lexer": "ipython3",
   "version": "3.11.5"
  }
 },
 "nbformat": 4,
 "nbformat_minor": 1
}
