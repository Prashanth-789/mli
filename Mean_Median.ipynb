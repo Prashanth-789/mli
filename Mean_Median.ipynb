{
 "cells": [
  {
   "cell_type": "code",
   "execution_count": 1,
   "id": "35026725",
   "metadata": {},
   "outputs": [],
   "source": [
    "import statistics\n",
    "import numpy as np\n",
    "arr=[115.3,195.5,120.5,110.2,90.4,105.6,110.9,116.3,122.3,125.4,90.4]\n",
    "arr.sort()"
   ]
  },
  {
   "cell_type": "markdown",
   "id": "d133fb6f",
   "metadata": {},
   "source": [
    "# MEAN"
   ]
  },
  {
   "cell_type": "code",
   "execution_count": 2,
   "id": "279a0bcb",
   "metadata": {
    "scrolled": true
   },
   "outputs": [
    {
     "data": {
      "text/plain": [
       "118.43636363636364"
      ]
     },
     "execution_count": 2,
     "metadata": {},
     "output_type": "execute_result"
    }
   ],
   "source": [
    "mean = sum(arr) / len(arr)\n",
    "mean"
   ]
  },
  {
   "cell_type": "code",
   "execution_count": 3,
   "id": "0874bef3",
   "metadata": {},
   "outputs": [
    {
     "name": "stdout",
     "output_type": "stream",
     "text": [
      "118.43636363636364\n"
     ]
    }
   ],
   "source": [
    "print(statistics.mean(arr))"
   ]
  },
  {
   "cell_type": "markdown",
   "id": "dd87a718",
   "metadata": {},
   "source": [
    "# MEDIAN\n"
   ]
  },
  {
   "cell_type": "code",
   "execution_count": 4,
   "id": "717d5849",
   "metadata": {},
   "outputs": [
    {
     "name": "stdout",
     "output_type": "stream",
     "text": [
      "Median is:  115.3\n"
     ]
    }
   ],
   "source": [
    "n=len(arr)\n",
    "if (n%2==0):\n",
    "    median1 = arr[n//2]\n",
    "    median2 = arr[n//2 - 1]\n",
    "    median = (median1 + median2)/2\n",
    "else:\n",
    "    median = arr[n//2]\n",
    "print(\"Median is: \",(median))"
   ]
  },
  {
   "cell_type": "code",
   "execution_count": 5,
   "id": "74b37800",
   "metadata": {},
   "outputs": [
    {
     "name": "stdout",
     "output_type": "stream",
     "text": [
      "115.3\n"
     ]
    }
   ],
   "source": [
    "print(statistics.median(arr))"
   ]
  },
  {
   "cell_type": "markdown",
   "id": "368629f1",
   "metadata": {},
   "source": [
    "# MODE"
   ]
  },
  {
   "cell_type": "code",
   "execution_count": 6,
   "id": "e7627f77",
   "metadata": {},
   "outputs": [
    {
     "name": "stdout",
     "output_type": "stream",
     "text": [
      "[2, 1, 1, 1, 1, 1, 1, 1, 1, 1]\n"
     ]
    },
    {
     "data": {
      "text/plain": [
       "[90.4]"
      ]
     },
     "execution_count": 6,
     "metadata": {},
     "output_type": "execute_result"
    }
   ],
   "source": [
    "frequency = {}\n",
    "for value in arr:\n",
    "    frequency[value] = frequency.get(value, 0) + 1  \n",
    "frequencs=list(frequency.values())\n",
    "print(frequencs)\n",
    "most_frequent = np.max(frequencs)\n",
    "modes = [key for key, value in frequency.items() if value == most_frequent]\n",
    "modes"
   ]
  },
  {
   "cell_type": "code",
   "execution_count": 7,
   "id": "b6c07b8b",
   "metadata": {},
   "outputs": [
    {
     "name": "stdout",
     "output_type": "stream",
     "text": [
      "90.4\n"
     ]
    }
   ],
   "source": [
    "print(statistics.mode(arr))"
   ]
  },
  {
   "cell_type": "markdown",
   "id": "37b6ca7f",
   "metadata": {},
   "source": [
    "# VARIANCE"
   ]
  },
  {
   "cell_type": "code",
   "execution_count": 8,
   "id": "06abbdd1",
   "metadata": {},
   "outputs": [
    {
     "name": "stdout",
     "output_type": "stream",
     "text": [
      "Variance is 788.2365454545454\n",
      "788.2365454545454\n",
      "SD is :  28.07555067054866\n",
      "28.07555067054866\n"
     ]
    }
   ],
   "source": [
    "import math\n",
    "variance=0\n",
    "for i in arr:\n",
    "    variance+=(i-mean)**2\n",
    "variance/=(n-1)\n",
    "print(\"Variance is\",variance)\n",
    "print(statistics.variance(arr))\n",
    "sd=variance**0.5\n",
    "print(\"SD is : \",sd)\n",
    "print(statistics.stdev(arr))"
   ]
  },
  {
   "cell_type": "markdown",
   "id": "41ede146",
   "metadata": {},
   "source": [
    "# NORMALIZATION"
   ]
  },
  {
   "cell_type": "code",
   "execution_count": 9,
   "id": "0323d428",
   "metadata": {},
   "outputs": [
    {
     "data": {
      "text/plain": [
       "[0.0,\n",
       " 0.0,\n",
       " 0.14462416745956222,\n",
       " 0.18839200761179828,\n",
       " 0.1950523311132255,\n",
       " 0.23691722169362506,\n",
       " 0.24643196955280677,\n",
       " 0.2863939105613701,\n",
       " 0.3035204567078972,\n",
       " 0.3330161750713606,\n",
       " 1.0]"
      ]
     },
     "execution_count": 9,
     "metadata": {},
     "output_type": "execute_result"
    }
   ],
   "source": [
    "mini=min(arr)\n",
    "maxi=max(arr)\n",
    "arr_norm=[]\n",
    "for i in range(0,n):\n",
    "    arr_norm.append((arr[i]-mini)/(maxi-mini))\n",
    "arr_norm\n"
   ]
  },
  {
   "cell_type": "code",
   "execution_count": 10,
   "id": "5e6cd75c",
   "metadata": {},
   "outputs": [],
   "source": [
    "# STANDARDIZATION"
   ]
  },
  {
   "cell_type": "code",
   "execution_count": 11,
   "id": "04120f04",
   "metadata": {},
   "outputs": [
    {
     "data": {
      "text/plain": [
       "[-0.9986042291869938,\n",
       " -0.9986042291869938,\n",
       " -0.4572079025979365,\n",
       " -0.29336427744598453,\n",
       " -0.2684315518793831,\n",
       " -0.11171156260360354,\n",
       " -0.07609338322274449,\n",
       " 0.07350297017686365,\n",
       " 0.13761569306240987,\n",
       " 0.24803204914307322,\n",
       " 2.7448664237412927]"
      ]
     },
     "execution_count": 11,
     "metadata": {},
     "output_type": "execute_result"
    }
   ],
   "source": [
    "import statistics\n",
    "scaled_arr=[]\n",
    "for i in range(0,n):\n",
    "    scaled_arr.append((arr[i]-statistics.mean(arr))/statistics.stdev(arr))\n",
    "scaled_arr"
   ]
  },
  {
   "cell_type": "code",
   "execution_count": 12,
   "id": "300f238d",
   "metadata": {},
   "outputs": [
    {
     "name": "stdout",
     "output_type": "stream",
     "text": [
      "-0.0\n",
      "1.0\n"
     ]
    }
   ],
   "source": [
    "print(round((statistics.mean(scaled_arr)),2))\n",
    "print((statistics.stdev(scaled_arr)))"
   ]
  },
  {
   "cell_type": "code",
   "execution_count": null,
   "id": "b46a1d90",
   "metadata": {},
   "outputs": [],
   "source": []
  }
 ],
 "metadata": {
  "kernelspec": {
   "display_name": "Python 3 (ipykernel)",
   "language": "python",
   "name": "python3"
  },
  "language_info": {
   "codemirror_mode": {
    "name": "ipython",
    "version": 3
   },
   "file_extension": ".py",
   "mimetype": "text/x-python",
   "name": "python",
   "nbconvert_exporter": "python",
   "pygments_lexer": "ipython3",
   "version": "3.11.5"
  }
 },
 "nbformat": 4,
 "nbformat_minor": 5
}
